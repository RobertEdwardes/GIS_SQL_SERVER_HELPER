{
    "metadata": {
        "kernelspec": {
            "name": "python3",
            "display_name": "Python 3",
            "language": "python"
        },
        "language_info": {
            "name": "python",
            "version": "3.9.7",
            "mimetype": "text/x-python",
            "codemirror_mode": {
                "name": "ipython",
                "version": 3
            },
            "pygments_lexer": "ipython3",
            "nbconvert_exporter": "python",
            "file_extension": ".py"
        }
    },
    "nbformat_minor": 2,
    "nbformat": 4,
    "cells": [
        {
            "cell_type": "code",
            "source": [
                "import pyodbc \r\n",
                "import geopandas\r\n",
                "import pandas\r\n",
                "from azure.storage.blob import BlobServiceClient, BlobClient, ContainerClient, __version__\r\n",
                "import os"
            ],
            "metadata": {
                "azdata_cell_guid": "d3822478-f770-4f2d-9c78-fde1c74542f0"
            },
            "outputs": [],
            "execution_count": 8
        },
        {
            "cell_type": "markdown",
            "source": [
                "Creditals CSV and JSON upload functions"
            ],
            "metadata": {
                "azdata_cell_guid": "dde8d1fa-2094-49e5-bd85-7e62498c5cf5"
            },
            "attachments": {}
        },
        {
            "cell_type": "code",
            "source": [
                "def create_creditals(credential_name, azure_blob_sercret, cursor):\r\n",
                "    try:\r\n",
                "        sql_query=f\"\"\"REATE DATABASE SCOPED CREDENTIAL {credential_name}\r\n",
                "    WITH IDENTITY = 'SHARED ACCESS SIGNATURE',\r\n",
                "    SECRET = '{azure_blob_sercret}';\"\"\"\r\n",
                "        cursor.excute(sql_query)\r\n",
                "        cursor.commit()\r\n",
                "    except Exception as e:\r\n",
                "        print(e)\r\n",
                "def create_external_data_source(credential_name ,azure_url, source_name, cursor, source_type='BLOB_STORAGE'):\r\n",
                "    try:\r\n",
                "        sql_query = f\"\"\"CREATE EXTERNAL DATA SOURCE {source_name}\r\n",
                "        WITH (\r\n",
                "            TYPE = {source_type},\r\n",
                "            LOCATION = '{azure_url}',\r\n",
                "            CREDENTIAL = {credential_name}\r\n",
                "        );\"\"\"\r\n",
                "        cursor.excute(sql_query)\r\n",
                "        cursor.commit()\r\n",
                "    except Exception as e:\r\n",
                "        print(e)\r\n",
                "def create_connection(server, database, username, password, driver='SQL Server'):\r\n",
                "    try:\r\n",
                "        cnxn = pyodbc.connect('DRIVER={'+driver+'};SERVER='+server+';DATABASE='+database+';UID='+username+';PWD='+ password)\r\n",
                "        cursor = cnxn.cursor()\r\n",
                "        cursor.execute(\"SELECT @@version;\") \r\n",
                "        cursor.commit\r\n",
                "        return cursor\r\n",
                "    except Exception as e:\r\n",
                "        print(e)\r\n",
                "def insert_flatefile_azure(file_name, source_name, table_name, cursor, file_format='CSV'):\r\n",
                "    try:\r\n",
                "        sql_query = f\"\"\"BULK INSERT {table_name}\r\n",
                "            FROM '{file_name}'\r\n",
                "            WITH (DATA_SOURCE = '{source_name}',\r\n",
                "                FORMAT = '{file_format}');\"\"\"\r\n",
                "        cursor.excute(sql_query)\r\n",
                "        cursor.commit()\r\n",
                "    except Exception as e:\r\n",
                "        print(e)\r\n",
                "\r\n",
                "def create_json_table(table_name, cursor, idx_key=None, idx=name=None, col_store=None):\r\n",
                "    sql_query_basic=f\"\"\"create table {table_name} (\r\n",
                "            _id bigint primary key identity,\r\n",
                "            dict nvarchar(max)\r\n",
                "    );\r\n",
                "    ALTER TABLE {table_name}\r\n",
                "    ADD CONSTRAINT [Log record should be formatted as JSON]\r\n",
                "                   CHECK (ISJSON(dict)=1);\"\"\"\r\n",
                "    sql_query_colStore=f\"\"\"create sequence {table_name}ID as bigint;\r\n",
                "            go\r\n",
                "            create table {table_name} (\r\n",
                "                _id bigint default(next value for {table_name}ID),\r\n",
                "                dict nvarchar(max),\r\n",
                "\r\n",
                "                INDEX cci CLUSTERED COLUMNSTORE\r\n",
                "            );\"\"\"\r\n",
                "    sql_query_idx = f\"\"\"create table {table_name} (\r\n",
                "    _id bigint primary key identity,\r\n",
                "    log nvarchar(max),\r\n",
                "\r\n",
                "    severity AS JSON_VALUE(log, '$.{idx_key}'),\r\n",
                "    index ix_severity ({idx_key})\r\n",
                ");\"\"\"\r\n",
                "\r\n",
                ""
            ],
            "metadata": {
                "azdata_cell_guid": "45f2421e-06f6-452a-b5b0-4cd8258a8c01",
                "tags": []
            },
            "outputs": [],
            "execution_count": null
        },
        {
            "cell_type": "markdown",
            "source": [
                "Azure Helper Functions"
            ],
            "metadata": {
                "azdata_cell_guid": "7315a623-58b6-4e43-8345-b86b79217fd8"
            },
            "attachments": {}
        },
        {
            "cell_type": "code",
            "source": [
                "def azure_connect():\r\n",
                "    try:\r\n",
                "        connect_str = os.getenv('AZURE_STORAGE_CONNECTION_STRING')\r\n",
                "    except Exception as e:\r\n",
                "        print(e)\r\n",
                "def upload_azure_blob(file_name, container_name, local_path=None):\r\n",
                "    upload_file_path = os.path.join(local_path, file_name)\r\n",
                "    blob_client = blob_service_client.get_blob_client(container=container_name, blob=file_name)\r\n",
                "    with open(upload_file_path, \"rb\") as data:\r\n",
                "        blob_client.upload_blob(data)"
            ],
            "metadata": {
                "azdata_cell_guid": "667cd136-88bd-4608-867e-795e712713ff"
            },
            "outputs": [],
            "execution_count": 9
        },
        {
            "cell_type": "markdown",
            "source": [
                "SQL Graph"
            ],
            "metadata": {
                "azdata_cell_guid": "d84b1679-eafc-4956-ac7b-45c268cd397a"
            },
            "attachments": {}
        },
        {
            "cell_type": "code",
            "source": [
                "def create_node_table(node_name, schema):\r\n",
                "    sql_query = f\"\"\"\r\n",
                "    CREATE TABLE {node_name} (\r\n",
                "            ID INTEGER PRIMARY KEY, \r\n",
                "            {schema}\r\n",
                "    ) AS NODE;\r\n",
                "    \"\"\"\r\n",
                "\r\n",
                "def create_edge_table(edge_name, schema):\r\n",
                "    sql_query = f\"\"\"\r\n",
                "    CREATE TABLE {edge_name} (\r\n",
                "        id INTEGER PRIMARY KEY,\r\n",
                "        {schema}\r\n",
                "    ) AS EDGE;\r\n",
                "    \"\"\"\r\n",
                "def insert_edge(filer_value, node_a, node_b, edge_name, node_name, value):\r\n",
                "    sql_query = f\"\"\"INSERT INTO {edge_name} VALUES ((SELECT $node_id FROM {node_name} WHERE {filer_value} = '{node_a}'),\r\n",
                "        (SELECT $node_id FROM {node_name} WHERE {filer_value} = '{node_b}'), {value});\"\"\""
            ],
            "metadata": {
                "azdata_cell_guid": "ae73ec9f-4f08-4d06-8a9d-f16ff2016df3"
            },
            "outputs": [],
            "execution_count": null
        },
        {
            "cell_type": "markdown",
            "source": [
                "GEO data"
            ],
            "metadata": {
                "azdata_cell_guid": "6e0b20be-15f9-4cd1-b9b6-575ae34bb70e"
            },
            "attachments": {}
        },
        {
            "cell_type": "code",
            "source": [
                ""
            ],
            "metadata": {
                "azdata_cell_guid": "9986b520-3472-492a-9cf4-a3da007269ce",
                "tags": []
            },
            "outputs": [],
            "execution_count": null
        }
    ]
}